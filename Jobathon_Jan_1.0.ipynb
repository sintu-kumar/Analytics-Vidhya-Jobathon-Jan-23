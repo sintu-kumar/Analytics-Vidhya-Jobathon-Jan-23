{
 "cells": [
  {
   "cell_type": "code",
   "execution_count": 274,
   "id": "455c95d0",
   "metadata": {},
   "outputs": [],
   "source": [
    "#load libraries\n",
    "import pandas as pd\n",
    "import numpy as np\n",
    "import matplotlib.pyplot as plt\n",
    "import seaborn as sns\n",
    "from category_encoders import *\n",
    "import scipy.stats as stats\n",
    "\n",
    "from sklearn.model_selection import train_test_split\n",
    "from sklearn.model_selection import cross_val_score\n",
    "\n",
    "from sklearn.linear_model import LinearRegression\n",
    "from sklearn.ensemble import RandomForestRegressor\n",
    "from sklearn.linear_model import Ridge\n",
    "from sklearn.linear_model import Lasso\n",
    "\n",
    "from sklearn.metrics import r2_score\n",
    "\n",
    "from sklearn.preprocessing import PowerTransformer\n",
    "from sklearn.preprocessing import KBinsDiscretizer\n",
    "\n",
    "from sklearn.preprocessing import OneHotEncoder\n",
    "from sklearn.preprocessing import MinMaxScaler\n",
    "from sklearn.preprocessing import OrdinalEncoder\n",
    "from sklearn.compose import ColumnTransformer\n",
    "from sklearn.pipeline import Pipeline,make_pipeline\n",
    "from sklearn.feature_selection import SelectKBest,chi2\n",
    "from sklearn.tree import DecisionTreeClassifier\n",
    "from sklearn.preprocessing import PolynomialFeatures"
   ]
  },
  {
   "cell_type": "markdown",
   "id": "76aef3ea",
   "metadata": {},
   "source": [
    "## Exploratory data analysis"
   ]
  },
  {
   "cell_type": "code",
   "execution_count": 275,
   "id": "6e3fda5d",
   "metadata": {},
   "outputs": [],
   "source": [
    "# Display Pipeline\n",
    "\n",
    "from sklearn import set_config\n",
    "set_config(display='diagram')"
   ]
  },
  {
   "cell_type": "code",
   "execution_count": 276,
   "id": "46b0d942",
   "metadata": {},
   "outputs": [
    {
     "data": {
      "text/html": [
       "<div>\n",
       "<style scoped>\n",
       "    .dataframe tbody tr th:only-of-type {\n",
       "        vertical-align: middle;\n",
       "    }\n",
       "\n",
       "    .dataframe tbody tr th {\n",
       "        vertical-align: top;\n",
       "    }\n",
       "\n",
       "    .dataframe thead th {\n",
       "        text-align: right;\n",
       "    }\n",
       "</style>\n",
       "<table border=\"1\" class=\"dataframe\">\n",
       "  <thead>\n",
       "    <tr style=\"text-align: right;\">\n",
       "      <th></th>\n",
       "      <th>id</th>\n",
       "      <th>gender</th>\n",
       "      <th>area</th>\n",
       "      <th>qualification</th>\n",
       "      <th>income</th>\n",
       "      <th>marital_status</th>\n",
       "      <th>vintage</th>\n",
       "      <th>claim_amount</th>\n",
       "      <th>num_policies</th>\n",
       "      <th>policy</th>\n",
       "      <th>type_of_policy</th>\n",
       "      <th>cltv</th>\n",
       "    </tr>\n",
       "  </thead>\n",
       "  <tbody>\n",
       "    <tr>\n",
       "      <th>0</th>\n",
       "      <td>1</td>\n",
       "      <td>Male</td>\n",
       "      <td>Urban</td>\n",
       "      <td>Bachelor</td>\n",
       "      <td>5L-10L</td>\n",
       "      <td>1</td>\n",
       "      <td>5</td>\n",
       "      <td>5790</td>\n",
       "      <td>More than 1</td>\n",
       "      <td>A</td>\n",
       "      <td>Platinum</td>\n",
       "      <td>64308</td>\n",
       "    </tr>\n",
       "    <tr>\n",
       "      <th>1</th>\n",
       "      <td>2</td>\n",
       "      <td>Male</td>\n",
       "      <td>Rural</td>\n",
       "      <td>High School</td>\n",
       "      <td>5L-10L</td>\n",
       "      <td>0</td>\n",
       "      <td>8</td>\n",
       "      <td>5080</td>\n",
       "      <td>More than 1</td>\n",
       "      <td>A</td>\n",
       "      <td>Platinum</td>\n",
       "      <td>515400</td>\n",
       "    </tr>\n",
       "    <tr>\n",
       "      <th>2</th>\n",
       "      <td>3</td>\n",
       "      <td>Male</td>\n",
       "      <td>Urban</td>\n",
       "      <td>Bachelor</td>\n",
       "      <td>5L-10L</td>\n",
       "      <td>1</td>\n",
       "      <td>8</td>\n",
       "      <td>2599</td>\n",
       "      <td>More than 1</td>\n",
       "      <td>A</td>\n",
       "      <td>Platinum</td>\n",
       "      <td>64212</td>\n",
       "    </tr>\n",
       "    <tr>\n",
       "      <th>3</th>\n",
       "      <td>4</td>\n",
       "      <td>Female</td>\n",
       "      <td>Rural</td>\n",
       "      <td>High School</td>\n",
       "      <td>5L-10L</td>\n",
       "      <td>0</td>\n",
       "      <td>7</td>\n",
       "      <td>0</td>\n",
       "      <td>More than 1</td>\n",
       "      <td>A</td>\n",
       "      <td>Platinum</td>\n",
       "      <td>97920</td>\n",
       "    </tr>\n",
       "    <tr>\n",
       "      <th>4</th>\n",
       "      <td>5</td>\n",
       "      <td>Male</td>\n",
       "      <td>Urban</td>\n",
       "      <td>High School</td>\n",
       "      <td>More than 10L</td>\n",
       "      <td>1</td>\n",
       "      <td>6</td>\n",
       "      <td>3508</td>\n",
       "      <td>More than 1</td>\n",
       "      <td>A</td>\n",
       "      <td>Gold</td>\n",
       "      <td>59736</td>\n",
       "    </tr>\n",
       "  </tbody>\n",
       "</table>\n",
       "</div>"
      ],
      "text/plain": [
       "   id  gender   area qualification         income  marital_status  vintage  \\\n",
       "0   1    Male  Urban      Bachelor         5L-10L               1        5   \n",
       "1   2    Male  Rural   High School         5L-10L               0        8   \n",
       "2   3    Male  Urban      Bachelor         5L-10L               1        8   \n",
       "3   4  Female  Rural   High School         5L-10L               0        7   \n",
       "4   5    Male  Urban   High School  More than 10L               1        6   \n",
       "\n",
       "   claim_amount num_policies policy type_of_policy    cltv  \n",
       "0          5790  More than 1      A       Platinum   64308  \n",
       "1          5080  More than 1      A       Platinum  515400  \n",
       "2          2599  More than 1      A       Platinum   64212  \n",
       "3             0  More than 1      A       Platinum   97920  \n",
       "4          3508  More than 1      A           Gold   59736  "
      ]
     },
     "execution_count": 276,
     "metadata": {},
     "output_type": "execute_result"
    }
   ],
   "source": [
    "# load train and test data\n",
    "train = pd.read_csv('train_BRCpofr.csv')\n",
    "test  = pd.read_csv(\"test_koRSKBP.csv\")\n",
    "\n",
    "#train = trains.drop(columns=['id'])\n",
    "train.head()"
   ]
  },
  {
   "cell_type": "code",
   "execution_count": 277,
   "id": "cc3ccf17",
   "metadata": {},
   "outputs": [],
   "source": [
    "# explanatory data analysis"
   ]
  },
  {
   "cell_type": "code",
   "execution_count": 278,
   "id": "b26c1f0b",
   "metadata": {},
   "outputs": [
    {
     "data": {
      "text/plain": [
       "(89392, 12)"
      ]
     },
     "execution_count": 278,
     "metadata": {},
     "output_type": "execute_result"
    }
   ],
   "source": [
    "train.shape"
   ]
  },
  {
   "cell_type": "code",
   "execution_count": 279,
   "id": "25c3ca2a",
   "metadata": {},
   "outputs": [
    {
     "data": {
      "text/plain": [
       "(59595, 11)"
      ]
     },
     "execution_count": 279,
     "metadata": {},
     "output_type": "execute_result"
    }
   ],
   "source": [
    "test.shape"
   ]
  },
  {
   "cell_type": "code",
   "execution_count": 280,
   "id": "4887c7ee",
   "metadata": {},
   "outputs": [
    {
     "data": {
      "text/html": [
       "<div>\n",
       "<style scoped>\n",
       "    .dataframe tbody tr th:only-of-type {\n",
       "        vertical-align: middle;\n",
       "    }\n",
       "\n",
       "    .dataframe tbody tr th {\n",
       "        vertical-align: top;\n",
       "    }\n",
       "\n",
       "    .dataframe thead th {\n",
       "        text-align: right;\n",
       "    }\n",
       "</style>\n",
       "<table border=\"1\" class=\"dataframe\">\n",
       "  <thead>\n",
       "    <tr style=\"text-align: right;\">\n",
       "      <th></th>\n",
       "      <th>id</th>\n",
       "      <th>marital_status</th>\n",
       "      <th>vintage</th>\n",
       "      <th>claim_amount</th>\n",
       "      <th>cltv</th>\n",
       "    </tr>\n",
       "  </thead>\n",
       "  <tbody>\n",
       "    <tr>\n",
       "      <th>count</th>\n",
       "      <td>89392.000000</td>\n",
       "      <td>89392.000000</td>\n",
       "      <td>89392.000000</td>\n",
       "      <td>89392.000000</td>\n",
       "      <td>89392.000000</td>\n",
       "    </tr>\n",
       "    <tr>\n",
       "      <th>mean</th>\n",
       "      <td>44696.500000</td>\n",
       "      <td>0.575488</td>\n",
       "      <td>4.595669</td>\n",
       "      <td>4351.502416</td>\n",
       "      <td>97952.828978</td>\n",
       "    </tr>\n",
       "    <tr>\n",
       "      <th>std</th>\n",
       "      <td>25805.391969</td>\n",
       "      <td>0.494272</td>\n",
       "      <td>2.290446</td>\n",
       "      <td>3262.359775</td>\n",
       "      <td>90613.814793</td>\n",
       "    </tr>\n",
       "    <tr>\n",
       "      <th>min</th>\n",
       "      <td>1.000000</td>\n",
       "      <td>0.000000</td>\n",
       "      <td>0.000000</td>\n",
       "      <td>0.000000</td>\n",
       "      <td>24828.000000</td>\n",
       "    </tr>\n",
       "    <tr>\n",
       "      <th>25%</th>\n",
       "      <td>22348.750000</td>\n",
       "      <td>0.000000</td>\n",
       "      <td>3.000000</td>\n",
       "      <td>2406.000000</td>\n",
       "      <td>52836.000000</td>\n",
       "    </tr>\n",
       "    <tr>\n",
       "      <th>50%</th>\n",
       "      <td>44696.500000</td>\n",
       "      <td>1.000000</td>\n",
       "      <td>5.000000</td>\n",
       "      <td>4089.000000</td>\n",
       "      <td>66396.000000</td>\n",
       "    </tr>\n",
       "    <tr>\n",
       "      <th>75%</th>\n",
       "      <td>67044.250000</td>\n",
       "      <td>1.000000</td>\n",
       "      <td>6.000000</td>\n",
       "      <td>6094.000000</td>\n",
       "      <td>103440.000000</td>\n",
       "    </tr>\n",
       "    <tr>\n",
       "      <th>max</th>\n",
       "      <td>89392.000000</td>\n",
       "      <td>1.000000</td>\n",
       "      <td>8.000000</td>\n",
       "      <td>31894.000000</td>\n",
       "      <td>724068.000000</td>\n",
       "    </tr>\n",
       "  </tbody>\n",
       "</table>\n",
       "</div>"
      ],
      "text/plain": [
       "                 id  marital_status       vintage  claim_amount           cltv\n",
       "count  89392.000000    89392.000000  89392.000000  89392.000000   89392.000000\n",
       "mean   44696.500000        0.575488      4.595669   4351.502416   97952.828978\n",
       "std    25805.391969        0.494272      2.290446   3262.359775   90613.814793\n",
       "min        1.000000        0.000000      0.000000      0.000000   24828.000000\n",
       "25%    22348.750000        0.000000      3.000000   2406.000000   52836.000000\n",
       "50%    44696.500000        1.000000      5.000000   4089.000000   66396.000000\n",
       "75%    67044.250000        1.000000      6.000000   6094.000000  103440.000000\n",
       "max    89392.000000        1.000000      8.000000  31894.000000  724068.000000"
      ]
     },
     "execution_count": 280,
     "metadata": {},
     "output_type": "execute_result"
    }
   ],
   "source": [
    "train.describe()"
   ]
  },
  {
   "cell_type": "code",
   "execution_count": 281,
   "id": "3ecb7760",
   "metadata": {},
   "outputs": [
    {
     "data": {
      "text/plain": [
       "id                0\n",
       "gender            0\n",
       "area              0\n",
       "qualification     0\n",
       "income            0\n",
       "marital_status    0\n",
       "vintage           0\n",
       "claim_amount      0\n",
       "num_policies      0\n",
       "policy            0\n",
       "type_of_policy    0\n",
       "cltv              0\n",
       "dtype: int64"
      ]
     },
     "execution_count": 281,
     "metadata": {},
     "output_type": "execute_result"
    }
   ],
   "source": [
    "train.isnull().sum()"
   ]
  },
  {
   "cell_type": "code",
   "execution_count": 282,
   "id": "e9fe0fc7",
   "metadata": {},
   "outputs": [
    {
     "name": "stdout",
     "output_type": "stream",
     "text": [
      "<class 'pandas.core.frame.DataFrame'>\n",
      "RangeIndex: 89392 entries, 0 to 89391\n",
      "Data columns (total 12 columns):\n",
      " #   Column          Non-Null Count  Dtype \n",
      "---  ------          --------------  ----- \n",
      " 0   id              89392 non-null  int64 \n",
      " 1   gender          89392 non-null  object\n",
      " 2   area            89392 non-null  object\n",
      " 3   qualification   89392 non-null  object\n",
      " 4   income          89392 non-null  object\n",
      " 5   marital_status  89392 non-null  int64 \n",
      " 6   vintage         89392 non-null  int64 \n",
      " 7   claim_amount    89392 non-null  int64 \n",
      " 8   num_policies    89392 non-null  object\n",
      " 9   policy          89392 non-null  object\n",
      " 10  type_of_policy  89392 non-null  object\n",
      " 11  cltv            89392 non-null  int64 \n",
      "dtypes: int64(5), object(7)\n",
      "memory usage: 8.2+ MB\n"
     ]
    }
   ],
   "source": [
    "train.info()"
   ]
  },
  {
   "cell_type": "code",
   "execution_count": null,
   "id": "aae47bc0",
   "metadata": {},
   "outputs": [],
   "source": []
  },
  {
   "cell_type": "code",
   "execution_count": 283,
   "id": "862b55e7",
   "metadata": {},
   "outputs": [
    {
     "name": "stdout",
     "output_type": "stream",
     "text": [
      "Male      50497\n",
      "Female    38895\n",
      "Name: gender, dtype: int64\n",
      "\n",
      "**********************************\n",
      "Urban    62455\n",
      "Rural    26937\n",
      "Name: area, dtype: int64\n",
      "\n",
      "**********************************\n",
      "High School    46247\n",
      "Bachelor       39399\n",
      "Others          3746\n",
      "Name: qualification, dtype: int64\n",
      "\n",
      "**********************************\n",
      "5L-10L           52716\n",
      "2L-5L            21158\n",
      "More than 10L    13664\n",
      "<=2L              1854\n",
      "Name: income, dtype: int64\n",
      "\n",
      "**********************************\n",
      "More than 1    60263\n",
      "1              29129\n",
      "Name: num_policies, dtype: int64\n",
      "\n",
      "**********************************\n",
      "A    56644\n",
      "B    24635\n",
      "C     8113\n",
      "Name: policy, dtype: int64\n",
      "\n",
      "**********************************\n",
      "Platinum    47796\n",
      "Silver      21010\n",
      "Gold        20586\n",
      "Name: type_of_policy, dtype: int64\n",
      "\n",
      "**********************************\n"
     ]
    }
   ],
   "source": [
    "for col in train.columns:\n",
    "    if(train[col].dtype=='object'):\n",
    "        print(train[col].value_counts(), end='\\n\\n**********************************\\n')"
   ]
  },
  {
   "cell_type": "code",
   "execution_count": 284,
   "id": "7bc4c480",
   "metadata": {},
   "outputs": [
    {
     "name": "stderr",
     "output_type": "stream",
     "text": [
      "C:\\Users\\sintu\\anaconda3\\lib\\site-packages\\seaborn\\_decorators.py:36: FutureWarning: Pass the following variable as a keyword arg: x. From version 0.12, the only valid positional argument will be `data`, and passing other arguments without an explicit keyword will result in an error or misinterpretation.\n",
      "  warnings.warn(\n"
     ]
    },
    {
     "data": {
      "text/plain": [
       "<AxesSubplot:xlabel='claim_amount'>"
      ]
     },
     "execution_count": 284,
     "metadata": {},
     "output_type": "execute_result"
    },
    {
     "data": {
      "image/png": "[encoded data removed]",
      "text/plain": [
       "<Figure size 640x480 with 1 Axes>"
      ]
     },
     "metadata": {},
     "output_type": "display_data"
    }
   ],
   "source": [
    "sns.boxplot('claim_amount', data=train)"
   ]
  },
  {
   "cell_type": "code",
   "execution_count": 285,
   "id": "92b679f6",
   "metadata": {},
   "outputs": [
    {
     "name": "stderr",
     "output_type": "stream",
     "text": [
      "C:\\Users\\sintu\\anaconda3\\lib\\site-packages\\seaborn\\distributions.py:2619: FutureWarning: `distplot` is a deprecated function and will be removed in a future version. Please adapt your code to use either `displot` (a figure-level function with similar flexibility) or `histplot` (an axes-level function for histograms).\n",
      "  warnings.warn(msg, FutureWarning)\n"
     ]
    },
    {
     "data": {
      "image/png": "[encoded data removed]",
      "text/plain": [
       "<Figure size 1400x400 with 2 Axes>"
      ]
     },
     "metadata": {},
     "output_type": "display_data"
    }
   ],
   "source": [
    "# Plotting the distplots without any transformation\n",
    "\n",
    "#for col in train['claim_amount'].columns:\n",
    "plt.figure(figsize=(14,4))\n",
    "plt.subplot(121)\n",
    "sns.distplot(train['claim_amount'])\n",
    "#plt.title(col)\n",
    "\n",
    "plt.subplot(122)\n",
    "stats.probplot(train['claim_amount'], dist=\"norm\", plot=plt)\n",
    "#plt.title(col)\n",
    "\n",
    "plt.show()"
   ]
  },
  {
   "cell_type": "code",
   "execution_count": 286,
   "id": "e85c5839",
   "metadata": {},
   "outputs": [
    {
     "data": {
      "text/html": [
       "<div>\n",
       "<style scoped>\n",
       "    .dataframe tbody tr th:only-of-type {\n",
       "        vertical-align: middle;\n",
       "    }\n",
       "\n",
       "    .dataframe tbody tr th {\n",
       "        vertical-align: top;\n",
       "    }\n",
       "\n",
       "    .dataframe thead th {\n",
       "        text-align: right;\n",
       "    }\n",
       "</style>\n",
       "<table border=\"1\" class=\"dataframe\">\n",
       "  <thead>\n",
       "    <tr style=\"text-align: right;\">\n",
       "      <th></th>\n",
       "      <th>cols</th>\n",
       "      <th>box_cox_lambdas</th>\n",
       "    </tr>\n",
       "  </thead>\n",
       "  <tbody>\n",
       "    <tr>\n",
       "      <th>0</th>\n",
       "      <td>claim_amount</td>\n",
       "      <td>0.417988</td>\n",
       "    </tr>\n",
       "    <tr>\n",
       "      <th>1</th>\n",
       "      <td>claim_amount</td>\n",
       "      <td>-0.526412</td>\n",
       "    </tr>\n",
       "  </tbody>\n",
       "</table>\n",
       "</div>"
      ],
      "text/plain": [
       "           cols  box_cox_lambdas\n",
       "0  claim_amount         0.417988\n",
       "1  claim_amount        -0.526412"
      ]
     },
     "execution_count": 286,
     "metadata": {},
     "output_type": "execute_result"
    }
   ],
   "source": [
    "pt = PowerTransformer()\n",
    "\n",
    "X_train_transformed = pt.fit_transform(train[['claim_amount', 'cltv']])\n",
    "X_train_transformed = pd.DataFrame(X_train_transformed, columns = ['claim_amount', 'cltv'])\n",
    "\n",
    "pd.DataFrame({'cols':'claim_amount','box_cox_lambdas':pt.lambdas_})"
   ]
  },
  {
   "cell_type": "code",
   "execution_count": 287,
   "id": "e00b4544",
   "metadata": {},
   "outputs": [
    {
     "name": "stderr",
     "output_type": "stream",
     "text": [
      "C:\\Users\\sintu\\anaconda3\\lib\\site-packages\\seaborn\\distributions.py:2619: FutureWarning: `distplot` is a deprecated function and will be removed in a future version. Please adapt your code to use either `displot` (a figure-level function with similar flexibility) or `histplot` (an axes-level function for histograms).\n",
      "  warnings.warn(msg, FutureWarning)\n"
     ]
    },
    {
     "data": {
      "image/png": "[encoded data removed]",
      "text/plain": [
       "<Figure size 1400x400 with 2 Axes>"
      ]
     },
     "metadata": {},
     "output_type": "display_data"
    }
   ],
   "source": [
    "plt.figure(figsize=(14,4))\n",
    "plt.subplot(121)\n",
    "sns.distplot(X_train_transformed['claim_amount'])\n",
    "#plt.title(col)\n",
    "\n",
    "plt.subplot(122)\n",
    "stats.probplot(X_train_transformed['claim_amount'], dist=\"norm\", plot=plt)\n",
    "#plt.title(col)\n",
    "\n",
    "plt.show()"
   ]
  },
  {
   "cell_type": "code",
   "execution_count": 288,
   "id": "31ca307f",
   "metadata": {},
   "outputs": [
    {
     "name": "stderr",
     "output_type": "stream",
     "text": [
      "C:\\Users\\sintu\\anaconda3\\lib\\site-packages\\seaborn\\distributions.py:2619: FutureWarning: `distplot` is a deprecated function and will be removed in a future version. Please adapt your code to use either `displot` (a figure-level function with similar flexibility) or `histplot` (an axes-level function for histograms).\n",
      "  warnings.warn(msg, FutureWarning)\n"
     ]
    },
    {
     "data": {
      "image/png": "[encoded data removed]",
      "text/plain": [
       "<Figure size 1400x400 with 2 Axes>"
      ]
     },
     "metadata": {},
     "output_type": "display_data"
    }
   ],
   "source": [
    "plt.figure(figsize=(14,4))\n",
    "plt.subplot(121)\n",
    "sns.distplot(train['claim_amount'])\n",
    "#plt.title(col)\n",
    "\n",
    "plt.subplot(122)\n",
    "stats.probplot(train['claim_amount'], dist=\"norm\", plot=plt)\n",
    "#plt.title(col)\n",
    "\n",
    "plt.show()"
   ]
  },
  {
   "cell_type": "code",
   "execution_count": 289,
   "id": "373e812b",
   "metadata": {},
   "outputs": [],
   "source": [
    "# kbin_claim = KBinsDiscretizer(n_bins=15,encode='ordinal',strategy='quantile')\n",
    "\n",
    "# X_train_trf = kbin_claim.fit_transform(pd.DataFrame(X_train_transformed['claim_amount']))\n",
    "# X_train_transformed['claim_amt_scaled'] = X_train_trf\n",
    "\n",
    "# plt.figure(figsize=(14,4))\n",
    "# plt.subplot(121)\n",
    "# sns.distplot(X_train_transformed['claim_amt_scaled'])\n",
    "# #plt.title(col)\n",
    "\n",
    "# plt.subplot(122)\n",
    "# stats.probplot(X_train_transformed['claim_amt_scaled'], dist=\"norm\", plot=plt)\n",
    "# #plt.title(col)\n",
    "\n",
    "# plt.show()\n",
    "\n",
    "# sns.displot(X_train_transformed['claim_amt_scaled'])"
   ]
  },
  {
   "cell_type": "code",
   "execution_count": null,
   "id": "361f212e",
   "metadata": {},
   "outputs": [],
   "source": []
  },
  {
   "cell_type": "code",
   "execution_count": 290,
   "id": "04d4cc4f",
   "metadata": {},
   "outputs": [
    {
     "data": {
      "text/plain": [
       "id                 int64\n",
       "gender            object\n",
       "area              object\n",
       "qualification     object\n",
       "income            object\n",
       "marital_status     int64\n",
       "vintage            int64\n",
       "claim_amount       int64\n",
       "num_policies      object\n",
       "policy            object\n",
       "type_of_policy    object\n",
       "cltv               int64\n",
       "dtype: object"
      ]
     },
     "execution_count": 290,
     "metadata": {},
     "output_type": "execute_result"
    }
   ],
   "source": [
    "train.dtypes"
   ]
  },
  {
   "cell_type": "code",
   "execution_count": 291,
   "id": "8e372755",
   "metadata": {},
   "outputs": [],
   "source": [
    "train['gender'] = train['gender'].astype(\"category\")\n",
    "train['area'] = train['area'].astype(\"category\")\n",
    "train['qualification'] = train['qualification'].astype(\"category\")\n",
    "train['marital_status'] = train['marital_status'].astype(\"category\")\n",
    "train['vintage'] = train['vintage'].astype(\"category\")\n",
    "train['num_policies'] = train['num_policies'].astype(\"category\")\n",
    "train['policy'] = train['policy'].astype(\"category\")\n",
    "train['type_of_policy'] = train['type_of_policy'].astype(\"category\")"
   ]
  },
  {
   "cell_type": "code",
   "execution_count": 292,
   "id": "f5957c85",
   "metadata": {},
   "outputs": [
    {
     "data": {
      "text/plain": [
       "id                   int64\n",
       "gender            category\n",
       "area              category\n",
       "qualification     category\n",
       "income              object\n",
       "marital_status    category\n",
       "vintage           category\n",
       "claim_amount         int64\n",
       "num_policies      category\n",
       "policy            category\n",
       "type_of_policy    category\n",
       "cltv                 int64\n",
       "dtype: object"
      ]
     },
     "execution_count": 292,
     "metadata": {},
     "output_type": "execute_result"
    }
   ],
   "source": [
    "train.dtypes"
   ]
  },
  {
   "cell_type": "code",
   "execution_count": 293,
   "id": "e393f90a",
   "metadata": {},
   "outputs": [],
   "source": [
    "# Step 1 -> train/test/split\n",
    "X_train,X_test,y_train,y_test = train_test_split(train.drop(columns=['cltv']),\n",
    "                                                 train['cltv'],\n",
    "                                                 test_size=0.2)"
   ]
  },
  {
   "cell_type": "code",
   "execution_count": 294,
   "id": "464a992c",
   "metadata": {},
   "outputs": [
    {
     "data": {
      "text/html": [
       "<div>\n",
       "<style scoped>\n",
       "    .dataframe tbody tr th:only-of-type {\n",
       "        vertical-align: middle;\n",
       "    }\n",
       "\n",
       "    .dataframe tbody tr th {\n",
       "        vertical-align: top;\n",
       "    }\n",
       "\n",
       "    .dataframe thead th {\n",
       "        text-align: right;\n",
       "    }\n",
       "</style>\n",
       "<table border=\"1\" class=\"dataframe\">\n",
       "  <thead>\n",
       "    <tr style=\"text-align: right;\">\n",
       "      <th></th>\n",
       "      <th>id</th>\n",
       "      <th>gender</th>\n",
       "      <th>area</th>\n",
       "      <th>qualification</th>\n",
       "      <th>income</th>\n",
       "      <th>marital_status</th>\n",
       "      <th>vintage</th>\n",
       "      <th>claim_amount</th>\n",
       "      <th>num_policies</th>\n",
       "      <th>policy</th>\n",
       "      <th>type_of_policy</th>\n",
       "    </tr>\n",
       "  </thead>\n",
       "  <tbody>\n",
       "    <tr>\n",
       "      <th>88350</th>\n",
       "      <td>88351</td>\n",
       "      <td>Female</td>\n",
       "      <td>Urban</td>\n",
       "      <td>Bachelor</td>\n",
       "      <td>5L-10L</td>\n",
       "      <td>0</td>\n",
       "      <td>2</td>\n",
       "      <td>6199</td>\n",
       "      <td>More than 1</td>\n",
       "      <td>A</td>\n",
       "      <td>Platinum</td>\n",
       "    </tr>\n",
       "    <tr>\n",
       "      <th>46942</th>\n",
       "      <td>46943</td>\n",
       "      <td>Female</td>\n",
       "      <td>Urban</td>\n",
       "      <td>Bachelor</td>\n",
       "      <td>5L-10L</td>\n",
       "      <td>1</td>\n",
       "      <td>5</td>\n",
       "      <td>2322</td>\n",
       "      <td>1</td>\n",
       "      <td>A</td>\n",
       "      <td>Platinum</td>\n",
       "    </tr>\n",
       "    <tr>\n",
       "      <th>30355</th>\n",
       "      <td>30356</td>\n",
       "      <td>Male</td>\n",
       "      <td>Urban</td>\n",
       "      <td>High School</td>\n",
       "      <td>5L-10L</td>\n",
       "      <td>1</td>\n",
       "      <td>7</td>\n",
       "      <td>6374</td>\n",
       "      <td>1</td>\n",
       "      <td>A</td>\n",
       "      <td>Platinum</td>\n",
       "    </tr>\n",
       "    <tr>\n",
       "      <th>37137</th>\n",
       "      <td>37138</td>\n",
       "      <td>Female</td>\n",
       "      <td>Rural</td>\n",
       "      <td>Bachelor</td>\n",
       "      <td>5L-10L</td>\n",
       "      <td>0</td>\n",
       "      <td>0</td>\n",
       "      <td>0</td>\n",
       "      <td>More than 1</td>\n",
       "      <td>C</td>\n",
       "      <td>Gold</td>\n",
       "    </tr>\n",
       "    <tr>\n",
       "      <th>227</th>\n",
       "      <td>228</td>\n",
       "      <td>Male</td>\n",
       "      <td>Rural</td>\n",
       "      <td>High School</td>\n",
       "      <td>5L-10L</td>\n",
       "      <td>0</td>\n",
       "      <td>7</td>\n",
       "      <td>0</td>\n",
       "      <td>More than 1</td>\n",
       "      <td>C</td>\n",
       "      <td>Gold</td>\n",
       "    </tr>\n",
       "    <tr>\n",
       "      <th>...</th>\n",
       "      <td>...</td>\n",
       "      <td>...</td>\n",
       "      <td>...</td>\n",
       "      <td>...</td>\n",
       "      <td>...</td>\n",
       "      <td>...</td>\n",
       "      <td>...</td>\n",
       "      <td>...</td>\n",
       "      <td>...</td>\n",
       "      <td>...</td>\n",
       "      <td>...</td>\n",
       "    </tr>\n",
       "    <tr>\n",
       "      <th>56477</th>\n",
       "      <td>56478</td>\n",
       "      <td>Female</td>\n",
       "      <td>Urban</td>\n",
       "      <td>Bachelor</td>\n",
       "      <td>5L-10L</td>\n",
       "      <td>1</td>\n",
       "      <td>8</td>\n",
       "      <td>2981</td>\n",
       "      <td>More than 1</td>\n",
       "      <td>A</td>\n",
       "      <td>Gold</td>\n",
       "    </tr>\n",
       "    <tr>\n",
       "      <th>11861</th>\n",
       "      <td>11862</td>\n",
       "      <td>Male</td>\n",
       "      <td>Urban</td>\n",
       "      <td>High School</td>\n",
       "      <td>5L-10L</td>\n",
       "      <td>1</td>\n",
       "      <td>3</td>\n",
       "      <td>3780</td>\n",
       "      <td>More than 1</td>\n",
       "      <td>A</td>\n",
       "      <td>Gold</td>\n",
       "    </tr>\n",
       "    <tr>\n",
       "      <th>28439</th>\n",
       "      <td>28440</td>\n",
       "      <td>Male</td>\n",
       "      <td>Urban</td>\n",
       "      <td>High School</td>\n",
       "      <td>5L-10L</td>\n",
       "      <td>1</td>\n",
       "      <td>4</td>\n",
       "      <td>5775</td>\n",
       "      <td>More than 1</td>\n",
       "      <td>A</td>\n",
       "      <td>Platinum</td>\n",
       "    </tr>\n",
       "    <tr>\n",
       "      <th>55460</th>\n",
       "      <td>55461</td>\n",
       "      <td>Male</td>\n",
       "      <td>Urban</td>\n",
       "      <td>High School</td>\n",
       "      <td>5L-10L</td>\n",
       "      <td>1</td>\n",
       "      <td>1</td>\n",
       "      <td>8317</td>\n",
       "      <td>More than 1</td>\n",
       "      <td>A</td>\n",
       "      <td>Platinum</td>\n",
       "    </tr>\n",
       "    <tr>\n",
       "      <th>80369</th>\n",
       "      <td>80370</td>\n",
       "      <td>Male</td>\n",
       "      <td>Urban</td>\n",
       "      <td>Bachelor</td>\n",
       "      <td>More than 10L</td>\n",
       "      <td>1</td>\n",
       "      <td>6</td>\n",
       "      <td>5796</td>\n",
       "      <td>1</td>\n",
       "      <td>A</td>\n",
       "      <td>Platinum</td>\n",
       "    </tr>\n",
       "  </tbody>\n",
       "</table>\n",
       "<p>71513 rows × 11 columns</p>\n",
       "</div>"
      ],
      "text/plain": [
       "          id  gender   area qualification         income marital_status  \\\n",
       "88350  88351  Female  Urban      Bachelor         5L-10L              0   \n",
       "46942  46943  Female  Urban      Bachelor         5L-10L              1   \n",
       "30355  30356    Male  Urban   High School         5L-10L              1   \n",
       "37137  37138  Female  Rural      Bachelor         5L-10L              0   \n",
       "227      228    Male  Rural   High School         5L-10L              0   \n",
       "...      ...     ...    ...           ...            ...            ...   \n",
       "56477  56478  Female  Urban      Bachelor         5L-10L              1   \n",
       "11861  11862    Male  Urban   High School         5L-10L              1   \n",
       "28439  28440    Male  Urban   High School         5L-10L              1   \n",
       "55460  55461    Male  Urban   High School         5L-10L              1   \n",
       "80369  80370    Male  Urban      Bachelor  More than 10L              1   \n",
       "\n",
       "      vintage  claim_amount num_policies policy type_of_policy  \n",
       "88350       2          6199  More than 1      A       Platinum  \n",
       "46942       5          2322            1      A       Platinum  \n",
       "30355       7          6374            1      A       Platinum  \n",
       "37137       0             0  More than 1      C           Gold  \n",
       "227         7             0  More than 1      C           Gold  \n",
       "...       ...           ...          ...    ...            ...  \n",
       "56477       8          2981  More than 1      A           Gold  \n",
       "11861       3          3780  More than 1      A           Gold  \n",
       "28439       4          5775  More than 1      A       Platinum  \n",
       "55460       1          8317  More than 1      A       Platinum  \n",
       "80369       6          5796            1      A       Platinum  \n",
       "\n",
       "[71513 rows x 11 columns]"
      ]
     },
     "execution_count": 294,
     "metadata": {},
     "output_type": "execute_result"
    }
   ],
   "source": [
    "X_train"
   ]
  },
  {
   "cell_type": "code",
   "execution_count": 295,
   "id": "a853d6c3",
   "metadata": {},
   "outputs": [
    {
     "data": {
      "text/plain": [
       "Index(['id', 'gender', 'area', 'qualification', 'income', 'marital_status',\n",
       "       'vintage', 'claim_amount', 'num_policies', 'policy', 'type_of_policy',\n",
       "       'cltv'],\n",
       "      dtype='object')"
      ]
     },
     "execution_count": 295,
     "metadata": {},
     "output_type": "execute_result"
    }
   ],
   "source": [
    "train.columns"
   ]
  },
  {
   "cell_type": "code",
   "execution_count": 296,
   "id": "98e84143",
   "metadata": {},
   "outputs": [],
   "source": [
    "two = ['Others', 'High School', 'Bachelor']\n",
    "three = ['<=2L', '2L-5L', '5L-10L', 'More than 10L']\n",
    "four = [0, 1]\n",
    "five = [0, 1, 2, 3, 4, 5, 6, 7, 8]\n",
    "seven = ['1', 'More than 1']\n",
    "eight = ['C', 'B', 'A']\n",
    "nine = ['Silver', 'Gold', 'Platinum']"
   ]
  },
  {
   "cell_type": "markdown",
   "id": "fb42e33f",
   "metadata": {},
   "source": [
    "## Building Model pipeline"
   ]
  },
  {
   "cell_type": "code",
   "execution_count": 297,
   "id": "d8a178c2",
   "metadata": {},
   "outputs": [],
   "source": [
    "# building the pipeline\n",
    "# Usinh OHE for nominal and ordinal encoding for ordinal data.\n",
    "trf2 = ColumnTransformer([\n",
    "    ('powerT', PowerTransformer(), [6])\n",
    "], remainder='passthrough')\n",
    "\n",
    "\n",
    "trf1 = ColumnTransformer([\n",
    "    ('ohe',OneHotEncoder(handle_unknown='ignore', drop='first'),[1, 2]),\n",
    "    ('oe1',OrdinalEncoder(categories=[two, three, four, five, seven, eight, nine]),[3,4,5,6,7,8,9])\n",
    "],\n",
    "    remainder='passthrough'\n",
    ")\n",
    "\n",
    "\n",
    "# Scaling\n",
    "# trf3 = ColumnTransformer([\n",
    "#     ('scale',MinMaxScaler(),slice(0,10))\n",
    "# ])\n",
    "\n",
    "\n",
    "\n",
    "\n",
    "# train the model\n",
    "#trf4 = DecisionTreeClassifier()\n",
    "trf4 = RandomForestRegressor(n_estimators=500, max_depth=7)\n",
    "#trf4 = LinearRegression()\n",
    "#trf4 = Ridge(alpha=0.01)\n",
    "#trf4 = Lasso(alpha=0.1)\n",
    "\n",
    "\n",
    "pipe = Pipeline([\n",
    "    ('trf2',trf2),\n",
    "    ('trf1',trf1),\n",
    "    \n",
    "    #('trf3',trf3),\n",
    "    ('trf4',trf4)\n",
    "])"
   ]
  },
  {
   "cell_type": "code",
   "execution_count": 298,
   "id": "c05d553d",
   "metadata": {},
   "outputs": [],
   "source": [
    "# # Hyperparameter tuning using gridsearchcv\n",
    "# params = {\n",
    "#     'trf5__alpha':[0.001, 0.1, 0.3, 0.6, 0.8, 1, 2, 5, 10, 50, 100]\n",
    "# }\n",
    "\n",
    "\n",
    "# grid = GridSearchCV(pipe, params, cv=5, scoring='r2')\n",
    "# grid.fit(X_train.iloc[:, 1:], y_train)"
   ]
  },
  {
   "cell_type": "markdown",
   "id": "4687e244",
   "metadata": {},
   "source": [
    "## Training Model on train data and Metrics evaluation"
   ]
  },
  {
   "cell_type": "code",
   "execution_count": 299,
   "id": "4fd9a3da",
   "metadata": {},
   "outputs": [
    {
     "data": {
      "text/html": [
       "<style>#sk-98dc4adc-4f68-4b9c-b7fb-15223e7fa33a {color: black;background-color: white;}#sk-98dc4adc-4f68-4b9c-b7fb-15223e7fa33a pre{padding: 0;}#sk-98dc4adc-4f68-4b9c-b7fb-15223e7fa33a div.sk-toggleable {background-color: white;}#sk-98dc4adc-4f68-4b9c-b7fb-15223e7fa33a label.sk-toggleable__label {cursor: pointer;display: block;width: 100%;margin-bottom: 0;padding: 0.3em;box-sizing: border-box;text-align: center;}#sk-98dc4adc-4f68-4b9c-b7fb-15223e7fa33a label.sk-toggleable__label-arrow:before {content: \"▸\";float: left;margin-right: 0.25em;color: #696969;}#sk-98dc4adc-4f68-4b9c-b7fb-15223e7fa33a label.sk-toggleable__label-arrow:hover:before {color: black;}#sk-98dc4adc-4f68-4b9c-b7fb-15223e7fa33a div.sk-estimator:hover label.sk-toggleable__label-arrow:before {color: black;}#sk-98dc4adc-4f68-4b9c-b7fb-15223e7fa33a div.sk-toggleable__content {max-height: 0;max-width: 0;overflow: hidden;text-align: left;background-color: #f0f8ff;}#sk-98dc4adc-4f68-4b9c-b7fb-15223e7fa33a div.sk-toggleable__content pre {margin: 0.2em;color: black;border-radius: 0.25em;background-color: #f0f8ff;}#sk-98dc4adc-4f68-4b9c-b7fb-15223e7fa33a input.sk-toggleable__control:checked~div.sk-toggleable__content {max-height: 200px;max-width: 100%;overflow: auto;}#sk-98dc4adc-4f68-4b9c-b7fb-15223e7fa33a input.sk-toggleable__control:checked~label.sk-toggleable__label-arrow:before {content: \"▾\";}#sk-98dc4adc-4f68-4b9c-b7fb-15223e7fa33a div.sk-estimator input.sk-toggleable__control:checked~label.sk-toggleable__label {background-color: #d4ebff;}#sk-98dc4adc-4f68-4b9c-b7fb-15223e7fa33a div.sk-label input.sk-toggleable__control:checked~label.sk-toggleable__label {background-color: #d4ebff;}#sk-98dc4adc-4f68-4b9c-b7fb-15223e7fa33a input.sk-hidden--visually {border: 0;clip: rect(1px 1px 1px 1px);clip: rect(1px, 1px, 1px, 1px);height: 1px;margin: -1px;overflow: hidden;padding: 0;position: absolute;width: 1px;}#sk-98dc4adc-4f68-4b9c-b7fb-15223e7fa33a div.sk-estimator {font-family: monospace;background-color: #f0f8ff;border: 1px dotted black;border-radius: 0.25em;box-sizing: border-box;margin-bottom: 0.5em;}#sk-98dc4adc-4f68-4b9c-b7fb-15223e7fa33a div.sk-estimator:hover {background-color: #d4ebff;}#sk-98dc4adc-4f68-4b9c-b7fb-15223e7fa33a div.sk-parallel-item::after {content: \"\";width: 100%;border-bottom: 1px solid gray;flex-grow: 1;}#sk-98dc4adc-4f68-4b9c-b7fb-15223e7fa33a div.sk-label:hover label.sk-toggleable__label {background-color: #d4ebff;}#sk-98dc4adc-4f68-4b9c-b7fb-15223e7fa33a div.sk-serial::before {content: \"\";position: absolute;border-left: 1px solid gray;box-sizing: border-box;top: 2em;bottom: 0;left: 50%;}#sk-98dc4adc-4f68-4b9c-b7fb-15223e7fa33a div.sk-serial {display: flex;flex-direction: column;align-items: center;background-color: white;padding-right: 0.2em;padding-left: 0.2em;}#sk-98dc4adc-4f68-4b9c-b7fb-15223e7fa33a div.sk-item {z-index: 1;}#sk-98dc4adc-4f68-4b9c-b7fb-15223e7fa33a div.sk-parallel {display: flex;align-items: stretch;justify-content: center;background-color: white;}#sk-98dc4adc-4f68-4b9c-b7fb-15223e7fa33a div.sk-parallel::before {content: \"\";position: absolute;border-left: 1px solid gray;box-sizing: border-box;top: 2em;bottom: 0;left: 50%;}#sk-98dc4adc-4f68-4b9c-b7fb-15223e7fa33a div.sk-parallel-item {display: flex;flex-direction: column;position: relative;background-color: white;}#sk-98dc4adc-4f68-4b9c-b7fb-15223e7fa33a div.sk-parallel-item:first-child::after {align-self: flex-end;width: 50%;}#sk-98dc4adc-4f68-4b9c-b7fb-15223e7fa33a div.sk-parallel-item:last-child::after {align-self: flex-start;width: 50%;}#sk-98dc4adc-4f68-4b9c-b7fb-15223e7fa33a div.sk-parallel-item:only-child::after {width: 0;}#sk-98dc4adc-4f68-4b9c-b7fb-15223e7fa33a div.sk-dashed-wrapped {border: 1px dashed gray;margin: 0 0.4em 0.5em 0.4em;box-sizing: border-box;padding-bottom: 0.4em;background-color: white;position: relative;}#sk-98dc4adc-4f68-4b9c-b7fb-15223e7fa33a div.sk-label label {font-family: monospace;font-weight: bold;background-color: white;display: inline-block;line-height: 1.2em;}#sk-98dc4adc-4f68-4b9c-b7fb-15223e7fa33a div.sk-label-container {position: relative;z-index: 2;text-align: center;}#sk-98dc4adc-4f68-4b9c-b7fb-15223e7fa33a div.sk-container {/* jupyter's `normalize.less` sets `[hidden] { display: none; }` but bootstrap.min.css set `[hidden] { display: none !important; }` so we also need the `!important` here to be able to override the default hidden behavior on the sphinx rendered scikit-learn.org. See: https://github.com/scikit-learn/scikit-learn/issues/21755 */display: inline-block !important;position: relative;}#sk-98dc4adc-4f68-4b9c-b7fb-15223e7fa33a div.sk-text-repr-fallback {display: none;}</style><div id=\"sk-98dc4adc-4f68-4b9c-b7fb-15223e7fa33a\" class=\"sk-top-container\"><div class=\"sk-text-repr-fallback\"><pre>Pipeline(steps=[(&#x27;trf2&#x27;,\n",
       "                 ColumnTransformer(remainder=&#x27;passthrough&#x27;,\n",
       "                                   transformers=[(&#x27;powerT&#x27;, PowerTransformer(),\n",
       "                                                  [6])])),\n",
       "                (&#x27;trf1&#x27;,\n",
       "                 ColumnTransformer(remainder=&#x27;passthrough&#x27;,\n",
       "                                   transformers=[(&#x27;ohe&#x27;,\n",
       "                                                  OneHotEncoder(drop=&#x27;first&#x27;,\n",
       "                                                                handle_unknown=&#x27;ignore&#x27;),\n",
       "                                                  [1, 2]),\n",
       "                                                 (&#x27;oe1&#x27;,\n",
       "                                                  OrdinalEncoder(categories=[[&#x27;Others&#x27;,\n",
       "                                                                              &#x27;High &#x27;\n",
       "                                                                              &#x27;School&#x27;,\n",
       "                                                                              &#x27;Bachelor&#x27;],\n",
       "                                                                             [&#x27;&lt;=2L&#x27;,\n",
       "                                                                              &#x27;2L-5L&#x27;,\n",
       "                                                                              &#x27;5L-10L&#x27;,\n",
       "                                                                              &#x27;More &#x27;\n",
       "                                                                              &#x27;than &#x27;\n",
       "                                                                              &#x27;10L&#x27;],\n",
       "                                                                             [0,\n",
       "                                                                              1],\n",
       "                                                                             [0,\n",
       "                                                                              1,\n",
       "                                                                              2,\n",
       "                                                                              3,\n",
       "                                                                              4,\n",
       "                                                                              5,\n",
       "                                                                              6,\n",
       "                                                                              7,\n",
       "                                                                              8],\n",
       "                                                                             [&#x27;1&#x27;,\n",
       "                                                                              &#x27;More &#x27;\n",
       "                                                                              &#x27;than &#x27;\n",
       "                                                                              &#x27;1&#x27;],\n",
       "                                                                             [&#x27;C&#x27;,\n",
       "                                                                              &#x27;B&#x27;,\n",
       "                                                                              &#x27;A&#x27;],\n",
       "                                                                             [&#x27;Silver&#x27;,\n",
       "                                                                              &#x27;Gold&#x27;,\n",
       "                                                                              &#x27;Platinum&#x27;]]),\n",
       "                                                  [3, 4, 5, 6, 7, 8, 9])])),\n",
       "                (&#x27;trf4&#x27;, RandomForestRegressor(max_depth=7, n_estimators=500))])</pre><b>Please rerun this cell to show the HTML repr or trust the notebook.</b></div><div class=\"sk-container\" hidden><div class=\"sk-item sk-dashed-wrapped\"><div class=\"sk-label-container\"><div class=\"sk-label sk-toggleable\"><input class=\"sk-toggleable__control sk-hidden--visually\" id=\"ec3f31cd-3c39-4448-aef0-b538cfe3b2f6\" type=\"checkbox\" ><label for=\"ec3f31cd-3c39-4448-aef0-b538cfe3b2f6\" class=\"sk-toggleable__label sk-toggleable__label-arrow\">Pipeline</label><div class=\"sk-toggleable__content\"><pre>Pipeline(steps=[(&#x27;trf2&#x27;,\n",
       "                 ColumnTransformer(remainder=&#x27;passthrough&#x27;,\n",
       "                                   transformers=[(&#x27;powerT&#x27;, PowerTransformer(),\n",
       "                                                  [6])])),\n",
       "                (&#x27;trf1&#x27;,\n",
       "                 ColumnTransformer(remainder=&#x27;passthrough&#x27;,\n",
       "                                   transformers=[(&#x27;ohe&#x27;,\n",
       "                                                  OneHotEncoder(drop=&#x27;first&#x27;,\n",
       "                                                                handle_unknown=&#x27;ignore&#x27;),\n",
       "                                                  [1, 2]),\n",
       "                                                 (&#x27;oe1&#x27;,\n",
       "                                                  OrdinalEncoder(categories=[[&#x27;Others&#x27;,\n",
       "                                                                              &#x27;High &#x27;\n",
       "                                                                              &#x27;School&#x27;,\n",
       "                                                                              &#x27;Bachelor&#x27;],\n",
       "                                                                             [&#x27;&lt;=2L&#x27;,\n",
       "                                                                              &#x27;2L-5L&#x27;,\n",
       "                                                                              &#x27;5L-10L&#x27;,\n",
       "                                                                              &#x27;More &#x27;\n",
       "                                                                              &#x27;than &#x27;\n",
       "                                                                              &#x27;10L&#x27;],\n",
       "                                                                             [0,\n",
       "                                                                              1],\n",
       "                                                                             [0,\n",
       "                                                                              1,\n",
       "                                                                              2,\n",
       "                                                                              3,\n",
       "                                                                              4,\n",
       "                                                                              5,\n",
       "                                                                              6,\n",
       "                                                                              7,\n",
       "                                                                              8],\n",
       "                                                                             [&#x27;1&#x27;,\n",
       "                                                                              &#x27;More &#x27;\n",
       "                                                                              &#x27;than &#x27;\n",
       "                                                                              &#x27;1&#x27;],\n",
       "                                                                             [&#x27;C&#x27;,\n",
       "                                                                              &#x27;B&#x27;,\n",
       "                                                                              &#x27;A&#x27;],\n",
       "                                                                             [&#x27;Silver&#x27;,\n",
       "                                                                              &#x27;Gold&#x27;,\n",
       "                                                                              &#x27;Platinum&#x27;]]),\n",
       "                                                  [3, 4, 5, 6, 7, 8, 9])])),\n",
       "                (&#x27;trf4&#x27;, RandomForestRegressor(max_depth=7, n_estimators=500))])</pre></div></div></div><div class=\"sk-serial\"><div class=\"sk-item sk-dashed-wrapped\"><div class=\"sk-label-container\"><div class=\"sk-label sk-toggleable\"><input class=\"sk-toggleable__control sk-hidden--visually\" id=\"f9f8694a-d78d-4262-ab0a-5c2028c59cf3\" type=\"checkbox\" ><label for=\"f9f8694a-d78d-4262-ab0a-5c2028c59cf3\" class=\"sk-toggleable__label sk-toggleable__label-arrow\">trf2: ColumnTransformer</label><div class=\"sk-toggleable__content\"><pre>ColumnTransformer(remainder=&#x27;passthrough&#x27;,\n",
       "                  transformers=[(&#x27;powerT&#x27;, PowerTransformer(), [6])])</pre></div></div></div><div class=\"sk-parallel\"><div class=\"sk-parallel-item\"><div class=\"sk-item\"><div class=\"sk-label-container\"><div class=\"sk-label sk-toggleable\"><input class=\"sk-toggleable__control sk-hidden--visually\" id=\"221ad50b-597b-410c-a01a-be929b05a8c1\" type=\"checkbox\" ><label for=\"221ad50b-597b-410c-a01a-be929b05a8c1\" class=\"sk-toggleable__label sk-toggleable__label-arrow\">powerT</label><div class=\"sk-toggleable__content\"><pre>[6]</pre></div></div></div><div class=\"sk-serial\"><div class=\"sk-item\"><div class=\"sk-estimator sk-toggleable\"><input class=\"sk-toggleable__control sk-hidden--visually\" id=\"1fe69fbc-2385-4a28-99cf-84119c2d2cdc\" type=\"checkbox\" ><label for=\"1fe69fbc-2385-4a28-99cf-84119c2d2cdc\" class=\"sk-toggleable__label sk-toggleable__label-arrow\">PowerTransformer</label><div class=\"sk-toggleable__content\"><pre>PowerTransformer()</pre></div></div></div></div></div></div><div class=\"sk-parallel-item\"><div class=\"sk-item\"><div class=\"sk-label-container\"><div class=\"sk-label sk-toggleable\"><input class=\"sk-toggleable__control sk-hidden--visually\" id=\"b0290cf6-8a64-4f14-9824-cecac77e1d62\" type=\"checkbox\" ><label for=\"b0290cf6-8a64-4f14-9824-cecac77e1d62\" class=\"sk-toggleable__label sk-toggleable__label-arrow\">remainder</label><div class=\"sk-toggleable__content\"><pre>[&#x27;gender&#x27;, &#x27;area&#x27;, &#x27;qualification&#x27;, &#x27;income&#x27;, &#x27;marital_status&#x27;, &#x27;vintage&#x27;, &#x27;num_policies&#x27;, &#x27;policy&#x27;, &#x27;type_of_policy&#x27;]</pre></div></div></div><div class=\"sk-serial\"><div class=\"sk-item\"><div class=\"sk-estimator sk-toggleable\"><input class=\"sk-toggleable__control sk-hidden--visually\" id=\"a7a5984c-6711-4f75-b4eb-45ad4ff4b54e\" type=\"checkbox\" ><label for=\"a7a5984c-6711-4f75-b4eb-45ad4ff4b54e\" class=\"sk-toggleable__label sk-toggleable__label-arrow\">passthrough</label><div class=\"sk-toggleable__content\"><pre>passthrough</pre></div></div></div></div></div></div></div></div><div class=\"sk-item sk-dashed-wrapped\"><div class=\"sk-label-container\"><div class=\"sk-label sk-toggleable\"><input class=\"sk-toggleable__control sk-hidden--visually\" id=\"f04dd2ae-e5a7-4ba2-b3b5-2d847f1e76b6\" type=\"checkbox\" ><label for=\"f04dd2ae-e5a7-4ba2-b3b5-2d847f1e76b6\" class=\"sk-toggleable__label sk-toggleable__label-arrow\">trf1: ColumnTransformer</label><div class=\"sk-toggleable__content\"><pre>ColumnTransformer(remainder=&#x27;passthrough&#x27;,\n",
       "                  transformers=[(&#x27;ohe&#x27;,\n",
       "                                 OneHotEncoder(drop=&#x27;first&#x27;,\n",
       "                                               handle_unknown=&#x27;ignore&#x27;),\n",
       "                                 [1, 2]),\n",
       "                                (&#x27;oe1&#x27;,\n",
       "                                 OrdinalEncoder(categories=[[&#x27;Others&#x27;,\n",
       "                                                             &#x27;High School&#x27;,\n",
       "                                                             &#x27;Bachelor&#x27;],\n",
       "                                                            [&#x27;&lt;=2L&#x27;, &#x27;2L-5L&#x27;,\n",
       "                                                             &#x27;5L-10L&#x27;,\n",
       "                                                             &#x27;More than 10L&#x27;],\n",
       "                                                            [0, 1],\n",
       "                                                            [0, 1, 2, 3, 4, 5,\n",
       "                                                             6, 7, 8],\n",
       "                                                            [&#x27;1&#x27;,\n",
       "                                                             &#x27;More than 1&#x27;],\n",
       "                                                            [&#x27;C&#x27;, &#x27;B&#x27;, &#x27;A&#x27;],\n",
       "                                                            [&#x27;Silver&#x27;, &#x27;Gold&#x27;,\n",
       "                                                             &#x27;Platinum&#x27;]]),\n",
       "                                 [3, 4, 5, 6, 7, 8, 9])])</pre></div></div></div><div class=\"sk-parallel\"><div class=\"sk-parallel-item\"><div class=\"sk-item\"><div class=\"sk-label-container\"><div class=\"sk-label sk-toggleable\"><input class=\"sk-toggleable__control sk-hidden--visually\" id=\"e0ec52c2-fc75-4303-a19e-18e4249475b9\" type=\"checkbox\" ><label for=\"e0ec52c2-fc75-4303-a19e-18e4249475b9\" class=\"sk-toggleable__label sk-toggleable__label-arrow\">ohe</label><div class=\"sk-toggleable__content\"><pre>[1, 2]</pre></div></div></div><div class=\"sk-serial\"><div class=\"sk-item\"><div class=\"sk-estimator sk-toggleable\"><input class=\"sk-toggleable__control sk-hidden--visually\" id=\"265b2049-6086-4e37-b77e-0a157563adf4\" type=\"checkbox\" ><label for=\"265b2049-6086-4e37-b77e-0a157563adf4\" class=\"sk-toggleable__label sk-toggleable__label-arrow\">OneHotEncoder</label><div class=\"sk-toggleable__content\"><pre>OneHotEncoder(drop=&#x27;first&#x27;, handle_unknown=&#x27;ignore&#x27;)</pre></div></div></div></div></div></div><div class=\"sk-parallel-item\"><div class=\"sk-item\"><div class=\"sk-label-container\"><div class=\"sk-label sk-toggleable\"><input class=\"sk-toggleable__control sk-hidden--visually\" id=\"e4c8da18-3dca-4624-b59f-fbe364e44823\" type=\"checkbox\" ><label for=\"e4c8da18-3dca-4624-b59f-fbe364e44823\" class=\"sk-toggleable__label sk-toggleable__label-arrow\">oe1</label><div class=\"sk-toggleable__content\"><pre>[3, 4, 5, 6, 7, 8, 9]</pre></div></div></div><div class=\"sk-serial\"><div class=\"sk-item\"><div class=\"sk-estimator sk-toggleable\"><input class=\"sk-toggleable__control sk-hidden--visually\" id=\"5a7275a9-5ef5-4a48-a6d8-208b42103ea6\" type=\"checkbox\" ><label for=\"5a7275a9-5ef5-4a48-a6d8-208b42103ea6\" class=\"sk-toggleable__label sk-toggleable__label-arrow\">OrdinalEncoder</label><div class=\"sk-toggleable__content\"><pre>OrdinalEncoder(categories=[[&#x27;Others&#x27;, &#x27;High School&#x27;, &#x27;Bachelor&#x27;],\n",
       "                           [&#x27;&lt;=2L&#x27;, &#x27;2L-5L&#x27;, &#x27;5L-10L&#x27;, &#x27;More than 10L&#x27;], [0, 1],\n",
       "                           [0, 1, 2, 3, 4, 5, 6, 7, 8], [&#x27;1&#x27;, &#x27;More than 1&#x27;],\n",
       "                           [&#x27;C&#x27;, &#x27;B&#x27;, &#x27;A&#x27;], [&#x27;Silver&#x27;, &#x27;Gold&#x27;, &#x27;Platinum&#x27;]])</pre></div></div></div></div></div></div><div class=\"sk-parallel-item\"><div class=\"sk-item\"><div class=\"sk-label-container\"><div class=\"sk-label sk-toggleable\"><input class=\"sk-toggleable__control sk-hidden--visually\" id=\"c4a4123d-e954-4afe-93df-34e33f7faeaa\" type=\"checkbox\" ><label for=\"c4a4123d-e954-4afe-93df-34e33f7faeaa\" class=\"sk-toggleable__label sk-toggleable__label-arrow\">remainder</label><div class=\"sk-toggleable__content\"><pre>[0]</pre></div></div></div><div class=\"sk-serial\"><div class=\"sk-item\"><div class=\"sk-estimator sk-toggleable\"><input class=\"sk-toggleable__control sk-hidden--visually\" id=\"2f2b06ce-b64b-41cd-9987-9ae9e68e8b50\" type=\"checkbox\" ><label for=\"2f2b06ce-b64b-41cd-9987-9ae9e68e8b50\" class=\"sk-toggleable__label sk-toggleable__label-arrow\">passthrough</label><div class=\"sk-toggleable__content\"><pre>passthrough</pre></div></div></div></div></div></div></div></div><div class=\"sk-item\"><div class=\"sk-estimator sk-toggleable\"><input class=\"sk-toggleable__control sk-hidden--visually\" id=\"260309d9-c380-42d0-b179-7de77b06a444\" type=\"checkbox\" ><label for=\"260309d9-c380-42d0-b179-7de77b06a444\" class=\"sk-toggleable__label sk-toggleable__label-arrow\">RandomForestRegressor</label><div class=\"sk-toggleable__content\"><pre>RandomForestRegressor(max_depth=7, n_estimators=500)</pre></div></div></div></div></div></div></div>"
      ],
      "text/plain": [
       "Pipeline(steps=[('trf2',\n",
       "                 ColumnTransformer(remainder='passthrough',\n",
       "                                   transformers=[('powerT', PowerTransformer(),\n",
       "                                                  [6])])),\n",
       "                ('trf1',\n",
       "                 ColumnTransformer(remainder='passthrough',\n",
       "                                   transformers=[('ohe',\n",
       "                                                  OneHotEncoder(drop='first',\n",
       "                                                                handle_unknown='ignore'),\n",
       "                                                  [1, 2]),\n",
       "                                                 ('oe1',\n",
       "                                                  OrdinalEncoder(categories=[['Others',\n",
       "                                                                              'High '\n",
       "                                                                              'School',\n",
       "                                                                              'Bachelor'],\n",
       "                                                                             ['<=2L',\n",
       "                                                                              '2L-5L',\n",
       "                                                                              '5L-10L',\n",
       "                                                                              'More '\n",
       "                                                                              'than '\n",
       "                                                                              '10L'],\n",
       "                                                                             [0,\n",
       "                                                                              1],\n",
       "                                                                             [0,\n",
       "                                                                              1,\n",
       "                                                                              2,\n",
       "                                                                              3,\n",
       "                                                                              4,\n",
       "                                                                              5,\n",
       "                                                                              6,\n",
       "                                                                              7,\n",
       "                                                                              8],\n",
       "                                                                             ['1',\n",
       "                                                                              'More '\n",
       "                                                                              'than '\n",
       "                                                                              '1'],\n",
       "                                                                             ['C',\n",
       "                                                                              'B',\n",
       "                                                                              'A'],\n",
       "                                                                             ['Silver',\n",
       "                                                                              'Gold',\n",
       "                                                                              'Platinum']]),\n",
       "                                                  [3, 4, 5, 6, 7, 8, 9])])),\n",
       "                ('trf4', RandomForestRegressor(max_depth=7, n_estimators=500))])"
      ]
     },
     "execution_count": 299,
     "metadata": {},
     "output_type": "execute_result"
    }
   ],
   "source": [
    "# model training on train data\n",
    "\n",
    "pipe.fit(train.drop(columns=['id', 'cltv']), train['cltv'])"
   ]
  },
  {
   "cell_type": "code",
   "execution_count": 246,
   "id": "57536bc3",
   "metadata": {},
   "outputs": [
    {
     "data": {
      "text/plain": [
       "0.15833211626410532"
      ]
     },
     "execution_count": 246,
     "metadata": {},
     "output_type": "execute_result"
    }
   ],
   "source": [
    "cross_val_score(pipe, train.iloc[:, 1:-1], train['cltv'], cv=5, scoring='r2').mean()"
   ]
  },
  {
   "cell_type": "code",
   "execution_count": 245,
   "id": "8ab4f276",
   "metadata": {},
   "outputs": [
    {
     "data": {
      "text/plain": [
       "0.17214292248058416"
      ]
     },
     "execution_count": 245,
     "metadata": {},
     "output_type": "execute_result"
    }
   ],
   "source": [
    "# r2 score of the model\n",
    "\n",
    "ypred = pipe.predict(X_test)\n",
    "r2_score(y_test, ypred)"
   ]
  },
  {
   "cell_type": "code",
   "execution_count": 228,
   "id": "9aadfa8c",
   "metadata": {},
   "outputs": [
    {
     "data": {
      "text/plain": [
       "array([122708, 101724, 156257, ...,  86179,  94865,  50221], dtype=int64)"
      ]
     },
     "execution_count": 228,
     "metadata": {},
     "output_type": "execute_result"
    }
   ],
   "source": [
    "preds = np.floor(pipe.predict(X_test.iloc[:,1:])).astype(\"int64\")\n",
    "r2_score(y_test, preds)"
   ]
  },
  {
   "cell_type": "code",
   "execution_count": null,
   "id": "766520bb",
   "metadata": {},
   "outputs": [],
   "source": []
  },
  {
   "cell_type": "code",
   "execution_count": 248,
   "id": "392ffa59",
   "metadata": {},
   "outputs": [],
   "source": [
    "# plt.hist(y_test)"
   ]
  },
  {
   "cell_type": "code",
   "execution_count": 249,
   "id": "95396a66",
   "metadata": {},
   "outputs": [],
   "source": [
    "# plt.hist(ypred)"
   ]
  },
  {
   "cell_type": "markdown",
   "id": "eeda06d5",
   "metadata": {},
   "source": [
    "## Test prediction and saving It in test_predictions.csv"
   ]
  },
  {
   "cell_type": "code",
   "execution_count": 250,
   "id": "395a863c",
   "metadata": {},
   "outputs": [],
   "source": [
    "# prediction of test data\n",
    "\n",
    "preds = pipe.predict(test.iloc[:,1:])"
   ]
  },
  {
   "cell_type": "code",
   "execution_count": 251,
   "id": "d043c530",
   "metadata": {},
   "outputs": [],
   "source": [
    "submission = pd.DataFrame()\n",
    "submission['id'] = test['id']\n",
    "submission['cltv'] = preds\n",
    "submission.to_csv('test_predictions.csv', index=False)"
   ]
  },
  {
   "cell_type": "code",
   "execution_count": 252,
   "id": "a81ad13b",
   "metadata": {},
   "outputs": [],
   "source": [
    "# pd.read_csv('test_predictions.csv')"
   ]
  },
  {
   "cell_type": "code",
   "execution_count": 38,
   "id": "92ebad2d",
   "metadata": {},
   "outputs": [],
   "source": []
  }
 ],
 "metadata": {
  "kernelspec": {
   "display_name": "Python 3 (ipykernel)",
   "language": "python",
   "name": "python3"
  },
  "language_info": {
   "codemirror_mode": {
    "name": "ipython",
    "version": 3
   },
   "file_extension": ".py",
   "mimetype": "text/x-python",
   "name": "python",
   "nbconvert_exporter": "python",
   "pygments_lexer": "ipython3",
   "version": "3.9.13"
  }
 },
 "nbformat": 4,
 "nbformat_minor": 5
}
